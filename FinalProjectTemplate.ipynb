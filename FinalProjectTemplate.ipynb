{
 "cells": [
  {
   "cell_type": "markdown",
   "metadata": {},
   "source": [
    "# Final Project Report\n",
    "\n",
    "* Class: DS 5100\n",
    "* Student Name:Alexandra Ferentinos\n",
    "* Student Net ID:kzk8qq\n",
    "* This URL: https://github.com/atferentinos/kzk8qq_ds5100_montecarlo/blob/main/FinalProjectTemplate.ipynb"
   ]
  },
  {
   "cell_type": "markdown",
   "metadata": {},
   "source": [
    "# Instructions\n",
    "\n",
    "Follow the instructions in the [Final Project](https://ontoligent.github.io/DS5100-2023-07-R/notebooks/M00_FinalProject/FinalProjectInstructions.html) isntructions and put your work in this notebook.\n",
    "\n",
    "Total points for each subsection under **Deliverables** and **Scenarios** are given in parentheses.\n",
    "\n",
    "Breakdowns of points within subsections are specified within subsection instructions as bulleted lists.\n",
    "\n",
    "This project is worth **50 points**."
   ]
  },
  {
   "cell_type": "markdown",
   "metadata": {},
   "source": [
    "# Deliverables"
   ]
  },
  {
   "cell_type": "markdown",
   "metadata": {},
   "source": [
    "## The Monte Carlo Module (10)\n",
    "\n",
    "- URL included, appropriately named (1).\n",
    "- Includes all three specified classes (3).\n",
    "- Includes at least all 12 specified methods (6; .5 each)."
   ]
  },
  {
   "cell_type": "markdown",
   "metadata": {},
   "source": [
    "Put the URL to your GitHub repo here.\n",
    "\n",
    "Repo URL: https://github.com/atferentinos/kzk8qq_ds5100_montecarlo"
   ]
  },
  {
   "cell_type": "markdown",
   "metadata": {},
   "source": [
    "Paste a copyy of your module here.\n",
    "\n",
    "NOTE: Paste as text, not as code. Use triple backticks to wrap your code blocks."
   ]
  },
  {
   "cell_type": "markdown",
   "metadata": {},
   "source": [
    "```python\n",
    "import numpy as np\n",
    "import pandas as pd\n",
    "\n",
    "    # test function, needs to throw type error if not a NumPy Array\n",
    "\n",
    "class Die:\n",
    "\n",
    "    \"\"\"\n",
    "    A class, changing faces and weights.\n",
    "\n",
    "    Attributes:\n",
    "    - faces(N) (np.array): Array of faces of the die.\n",
    "    - _data (pd.DataFrame): Private data frame that stores the die weights.\n",
    "    \"\"\"\n",
    "    def __init__(self, N):\n",
    "        \"\"\"\n",
    "        Initializes a Die with face data.\n",
    "\n",
    "        Args:\n",
    "        - faces(N) (np.array): Array of faces of the die..\n",
    "\n",
    "        Raised errors:\n",
    "        - TypeError: Throws a TypeError if not a Numpy array.\n",
    "        - ValueError: Test to see if the values are distinct and raise ValueError if not.\n",
    "        \"\"\"\n",
    "        if not isinstance(N, np.ndarray):\n",
    "            raise TypeError(\"Not a Numpy Array!!\")\n",
    "\n",
    "        if len(N) != len(np.unique(N)):\n",
    "            raise ValueError(\"Faces values must be unique!!\")\n",
    "\n",
    "        self._data = pd.DataFrame({'weights': [1.0]*len(N)}, index=N)\n",
    "        \n",
    "    def change_weight(self, N, new_weight):\n",
    "        \"\"\"\n",
    "        A method to change the weight of a single side.\n",
    "\n",
    "        Args:\n",
    "        - face(N): face value to be changed.\n",
    "        - new_weight: the weight of face value that was changed.\n",
    "\n",
    "        Raises:\n",
    "        - IndexError: If the face value is not valid.\n",
    "        - TypeError: If weight is not numeric (interger or float) or castable numeric.\n",
    "        \"\"\"\n",
    "        if N not in self._data.index:\n",
    "            raise IndexError(\"Face value not valid!!\")\n",
    "\n",
    "        if not (isinstance(new_weight, (int, float)) or str(new_weight).isnumeric()):\n",
    "            raise TypeError(\"Weight value is not numeric!!\")\n",
    "\n",
    "        self._data.loc[N, 'weights'] = new_weight\n",
    "        \n",
    "    def roll(self, rolls=1):\n",
    "        \"\"\"\n",
    "        method to roll the die one or more times.\n",
    "\n",
    "        Args:\n",
    "        - how many times the die is to be rolled; defaults to  1\n",
    "\n",
    "        Returns:\n",
    "        - Returns a Python list of outcomes.\n",
    "        \"\"\"\n",
    "        ##not to internally store results\n",
    "        return np.random.choice(self._data.index, size=rolls, p=self._data['weights']/np.sum(self._data['weights'])).tolist()\n",
    "    \n",
    "    def current_state(self):\n",
    "        \"\"\"\n",
    "        Dies current state\n",
    "\n",
    "        Returns:\n",
    "        - Returns a copy of the private die data frame.\n",
    "        \"\"\"\n",
    "        return self._data.copy()      \n",
    "        \n",
    "#Game Class\n",
    "class Game:\n",
    "    \"\"\"\n",
    "    A game consists of rolling of one or more similar dice (Die objects) one or more times\n",
    "\n",
    "    Attributes:\n",
    "    - list of already instantiated similar dice.\n",
    "    \"\"\"\n",
    "    ##Takes a single parameter, a list of already instantiated similar dice\n",
    "    def __init__(self, dies):\n",
    "        \"\"\"\n",
    "        Initializes a Die with face data. Takes a single parameter, a list of already instantiated similar dice\n",
    "\n",
    "        Args:\n",
    "        - takes a single parameter, a list of already instantiated similar dice.\n",
    "        \"\"\"\n",
    "        self.dies = dies\n",
    "        self._data = None\n",
    "        \n",
    "##play method how many times dice should be rolled \n",
    "    def play(self, rolls):\n",
    "        \"\"\"\n",
    "       play method how many times dice should be rolled\n",
    "\n",
    "        Args:\n",
    "        - interger parameter how many times dice should be rolled. \n",
    "        \"\"\"\n",
    "        results = {}\n",
    "        for idx, die in enumerate(self.dies):\n",
    "            results[f'die_{idx}'] = die.roll(rolls)\n",
    "        self._data = pd.DataFrame(results)\n",
    "        \n",
    "##results of most recent play\n",
    "    def play_results(self, form='wide'):\n",
    "        \"\"\"\n",
    "        results of most recent play\n",
    "\n",
    "        Args:\n",
    "        - Takes a parameter to return the data frame in narrow or wide form which defaults to wide form.\n",
    "\n",
    "        Raises:\n",
    "        - ValueError:if the user passes an invalid option for narrow or wide.\n",
    "        \"\"\"\n",
    "        if form == 'wide':\n",
    "            if self._data is None:\n",
    "                return pd.DataFrame()\n",
    "            return self._data.copy()\n",
    "        elif form == 'narrow':\n",
    "            if self._data is None:\n",
    "                return pd.DataFrame()\n",
    "            else:\n",
    "                return self._data.melt(ignore_index=False, var_name='die_number', value_name='outcomes')\n",
    "        else:\n",
    "            raise ValueError(\"Invalid option passed, choose 'wide' or 'narrow'!!\")\n",
    "\n",
    "##Analyzer class, Throw a ValueError if the passed value is not a Game object\n",
    "class Analyzer:\n",
    "    \"\"\"\n",
    "    An Analyzer object takes the results of a single game and computes various descriptive statistical properties about it.\n",
    "\n",
    "    Attributes:\n",
    "    - game object as parameter\n",
    "    \n",
    "    Raises:\n",
    "    ValueError:  if the passed value is not a Game object\n",
    "    \"\"\"\n",
    "    def __init__(self, game):\n",
    "        \"\"\"\n",
    "        Takes a game object as its input parameter. Throw a ValueError if the passed value is not a Game object.\n",
    "\n",
    "        Attributes:\n",
    "        - game object as parameter\n",
    "    \n",
    "        Raises:\n",
    "        ValueError:  if the passed value is not a Game object\n",
    "        \"\"\"\n",
    "        if not isinstance(game, Game):\n",
    "            raise ValueError(\"Passed value is not a Game Object!!\")\n",
    "        self.game = game\n",
    "        \n",
    "    ##jackpot method\n",
    "    def jackpot(self):\n",
    "        \"\"\"\n",
    "        A jackpot is a result in which all faces are the same, e.g. all ones for a six-sided die.\n",
    "\n",
    "        Args:\n",
    "        - Computes how many times the game resulted in a jackpot.\n",
    "\n",
    "        Returns:\n",
    "        -Returns an integer for the number of jackpots.\n",
    "        \"\"\"\n",
    "        return self.game.play_results().eq(self.game.play_results().iloc[:, 0], axis=0).all(1).sum()\n",
    "    \n",
    "    ##facecounts method\n",
    "    def rolled_event(self):\n",
    "        \"\"\"\n",
    "        Computes how many times a given face is rolled in each event.\n",
    "\n",
    "        Functions\n",
    "        The data frame has an index of the roll number, face values as columns, and count values in the cells (i.e. it is in wide format)\n",
    "\n",
    "        Returns:\n",
    "        -Returns a data frame of results.\n",
    "        \"\"\"\n",
    "        data = self.game.play_results()\n",
    "        counts = data.apply(pd.Series.value_counts)\n",
    "        #may need to fix for Nan\n",
    "        return counts\n",
    "\n",
    "    ##A combo count method\n",
    "    def combo_faces(self):\n",
    "        \"\"\"\n",
    "        Computes the distinct combinations of faces rolled, along with their counts.\n",
    "\n",
    "        Combinations are order-independent and may contain repetitions.\n",
    "\n",
    "        Returns:\n",
    "        -Returns a data frame of results.\n",
    "        \"\"\"\n",
    "        data = self.game.play_results()\n",
    "        combos = data.apply(lambda row: tuple(row), axis=1).value_counts()\n",
    "        return pd.DataFrame(combos, columns=['counts'])\n",
    "    \n",
    "    ##An permutation count method\n",
    "    def distinct_permutations(self):\n",
    "        \"\"\"\n",
    "        Computes the distinct permutations of faces rolled, along with their counts.\n",
    "\n",
    "        The data frame should have a MultiIndex of distinct permutations and a column for the associated counts\n",
    "\n",
    "        Returns:\n",
    "        -Returns a data frame of results.\n",
    "        \"\"\"\n",
    "        data = self.game.play_results()\n",
    "        perms = data.apply(lambda row: ''.join(map(str, row)), axis=1).value_counts()\n",
    "        return pd.DataFrame(perms, columns=['counts'])\n",
    "```\n"
   ]
  },
  {
   "cell_type": "markdown",
   "metadata": {},
   "source": [
    "## Unitest Module (2)\n",
    "\n",
    "Paste a copy of your test module below.\n",
    "\n",
    "NOTE: Paste as text, not as code. Use triple backticks to wrap your code blocks.\n",
    "\n",
    "- All methods have at least one test method (1).\n",
    "- Each method employs one of Unittest's Assert methods (1)."
   ]
  },
  {
   "cell_type": "markdown",
   "metadata": {},
   "source": [
    "```python\n",
    "import unittest\n",
    "import pandas as pd\n",
    "import numpy as np\n",
    "\n",
    "from Demo.montecarlo import Die, Game, Analyzer\n",
    "\n",
    "class TestDieMethods(unittest.TestCase):\n",
    "    def test_init_die(self):\n",
    "        test_faces = np.array([1, 2, 3, 4, 5, 6])\n",
    "        die = Die(test_faces)\n",
    "        self.assertIsInstance(die.current_state(), pd.DataFrame)\n",
    "        \n",
    "    def test_change_weight(self):\n",
    "        test_faces = np.array([1, 2, 3, 4, 5, 6])\n",
    "        die = Die(test_faces)\n",
    "        die.change_weight(1, 2.5)\n",
    "        self.assertEqual(die.current_state().loc[1, 'weights'], 2.5)\n",
    "        \n",
    "    def test_roll(self):\n",
    "        test_faces = np.array([1, 2, 3, 4, 5, 6])\n",
    "        die = Die(test_faces)\n",
    "        outcomes = die.roll(10)\n",
    "        self.assertEqual(len(outcomes), 10)\n",
    "        \n",
    "    def test_current_state(self):\n",
    "        test_faces = np.array([1, 2, 3, 4, 5, 6])\n",
    "        die = Die(test_faces)\n",
    "        state = die.current_state()\n",
    "        self.assertIsInstance(state, pd.DataFrame)\n",
    "\n",
    "class TestGameMethods(unittest.TestCase):\n",
    "    def test_init_game(self):\n",
    "        test_faces = np.array([1, 2, 3, 4, 5, 6])\n",
    "        die1 = Die(test_faces)\n",
    "        die2 = Die(test_faces)\n",
    "        game = Game([die1, die2])\n",
    "        self.assertIsInstance(game.dies, list)\n",
    "        \n",
    "    def test_play(self):\n",
    "        test_faces = np.array([1, 2, 3, 4, 5, 6])\n",
    "        die1 = Die(test_faces)\n",
    "        die2 = Die(test_faces)\n",
    "        game = Game([die1, die2])\n",
    "        game.play(5)\n",
    "        self.assertIsNotNone(game.play_results())\n",
    "        \n",
    "    def test_play_results(self):\n",
    "        test_faces = np.array([1, 2, 3, 4, 5, 6])\n",
    "        die1 = Die(test_faces)\n",
    "        die2 = Die(test_faces)\n",
    "        game = Game([die1, die2])\n",
    "        game.play(5)\n",
    "        results = game.play_results()\n",
    "        self.assertIsInstance(results, pd.DataFrame)\n",
    "\n",
    "class TestAnalyzerMethods(unittest.TestCase):\n",
    "    def test_analyzer(self):\n",
    "        test_faces = np.array([1, 2, 3, 4, 5, 6])\n",
    "        die1 = Die(test_faces)\n",
    "        die2 = Die(test_faces)\n",
    "        game = Game([die1, die2])\n",
    "        game.play(5)\n",
    "        analyzer = Analyzer(game)\n",
    "        \n",
    "    def test_combo_faces(self):\n",
    "        test_faces = np.array([1, 2, 3, 4, 5, 6])\n",
    "        die1 = Die(test_faces)\n",
    "        die2 = Die(test_faces)\n",
    "        game = Game([die1, die2])\n",
    "        game.play(5)\n",
    "        analyzer = Analyzer(game)\n",
    "        combos = analyzer.combo_faces()\n",
    "        self.assertIsInstance(combos, pd.DataFrame)\n",
    "        \n",
    "    def test_rolled_event(self):\n",
    "        test_faces = np.array([1, 2, 3, 4, 5, 6])\n",
    "        die1 = Die(test_faces)\n",
    "        die2 = Die(test_faces)\n",
    "        game = Game([die1, die2])\n",
    "        game.play(5)\n",
    "        analyzer = Analyzer(game)\n",
    "        counts = analyzer.rolled_event()\n",
    "        self.assertIsInstance(counts, pd.DataFrame)\n",
    "        \n",
    "    def test_permutation_count(self):\n",
    "        test_faces = np.array([1, 2, 3, 4, 5, 6])\n",
    "        die1 = Die(test_faces)\n",
    "        die2 = Die(test_faces)\n",
    "        game = Game([die1, die2])\n",
    "        game.play(5)\n",
    "        analyzer = Analyzer(game)\n",
    "        perms = analyzer.distinct_permutations()\n",
    "        self.assertIsInstance(perms, pd.DataFrame)\n",
    "        \n",
    "if __name__ == '__main__':\n",
    "\n",
    "    unittest.main(verbosity=3)\n",
    "    ```"
   ]
  },
  {
   "cell_type": "markdown",
   "metadata": {
    "tags": []
   },
   "source": [
    "## Unittest Results (3)\n",
    "\n",
    "Put a copy of the results of running your tests from the command line here.\n",
    "\n",
    "Again, paste as text using triple backticks.\n",
    "\n",
    "- All 12 specified methods return OK (3; .25 each)."
   ]
  },
  {
   "cell_type": "markdown",
   "metadata": {
    "tags": []
   },
   "source": [
    "```bash\n",
    "-bash-4.2$python montecarlo_test.py\n",
    "Welcome to my MonteCarlo Final Project\n",
    "test_analyzer (__main__.TestAnalyzerMethods) ... ok\n",
    "test_combo_faces (__main__.TestAnalyzerMethods) ... ok\n",
    "test_jackpot (__main__.TestAnalyzerMethods) ... ok\n",
    "test_permutation_count (__main__.TestAnalyzerMethods) ... ok\n",
    "test_rolled_event (__main__.TestAnalyzerMethods) ... ok\n",
    "test_change_weight (__main__.TestDieMethods) ... ok\n",
    "test_current_state (__main__.TestDieMethods) ... ok\n",
    "test_init_die (__main__.TestDieMethods) ... ok\n",
    "test_roll (__main__.TestDieMethods) ... ok\n",
    "test_init_game (__main__.TestGameMethods) ... ok\n",
    "test_play (__main__.TestGameMethods) ... ok\n",
    "test_play_results (__main__.TestGameMethods) ... ok\n",
    "----------------------------------------------------------------------\n",
    "Ran 12 tests in 0.043s\n",
    "OK\n",
    "-bash-4.2$\n",
    "```"
   ]
  },
  {
   "cell_type": "markdown",
   "metadata": {},
   "source": [
    "## Import (1)\n",
    "\n",
    "Import your module here. This import should refer to the code in your package directory.\n",
    "\n",
    "- Module successuflly imported (1)."
   ]
  },
  {
   "cell_type": "code",
   "execution_count": 2,
   "metadata": {
    "tags": []
   },
   "outputs": [
    {
     "name": "stdout",
     "output_type": "stream",
     "text": [
      "Welcome to my MonteCarlo Final Project\n"
     ]
    }
   ],
   "source": [
    "import Demo.montecarlo"
   ]
  },
  {
   "cell_type": "markdown",
   "metadata": {},
   "source": [
    "## Help Docs (4)\n",
    "\n",
    "Show your docstring documentation by applying `help()` to your imported module.\n",
    "\n",
    "- All methods have a docstring (3; .25 each).\n",
    "- All classes have a docstring (1; .33 each)."
   ]
  },
  {
   "cell_type": "code",
   "execution_count": 4,
   "metadata": {
    "tags": []
   },
   "outputs": [
    {
     "name": "stdout",
     "output_type": "stream",
     "text": [
      "Help on module Demo.montecarlo in Demo:\n",
      "\n",
      "NAME\n",
      "    Demo.montecarlo\n",
      "\n",
      "CLASSES\n",
      "    builtins.object\n",
      "        Analyzer\n",
      "        Die\n",
      "        Game\n",
      "    \n",
      "    class Analyzer(builtins.object)\n",
      "     |  Analyzer(game)\n",
      "     |  \n",
      "     |  An Analyzer object takes the results of a single game and computes various descriptive statistical properties about it.\n",
      "     |  \n",
      "     |  Attributes:\n",
      "     |  - game object as parameter\n",
      "     |  \n",
      "     |  Raises:\n",
      "     |  ValueError:  if the passed value is not a Game object\n",
      "     |  \n",
      "     |  Methods defined here:\n",
      "     |  \n",
      "     |  __init__(self, game)\n",
      "     |      Takes a game object as its input parameter. Throw a ValueError if the passed value is not a Game object.\n",
      "     |      \n",
      "     |      Attributes:\n",
      "     |      - game object as parameter\n",
      "     |      \n",
      "     |      Raises:\n",
      "     |      ValueError:  if the passed value is not a Game object\n",
      "     |  \n",
      "     |  combo_faces(self)\n",
      "     |      Computes the distinct combinations of faces rolled, along with their counts.\n",
      "     |      \n",
      "     |      Combinations are order-independent and may contain repetitions.\n",
      "     |      \n",
      "     |      Returns:\n",
      "     |      -Returns a data frame of results.\n",
      "     |  \n",
      "     |  distinct_permutations(self)\n",
      "     |      Computes the distinct permutations of faces rolled, along with their counts.\n",
      "     |      \n",
      "     |      The data frame should have a MultiIndex of distinct permutations and a column for the associated counts\n",
      "     |      \n",
      "     |      Returns:\n",
      "     |      -Returns a data frame of results.\n",
      "     |  \n",
      "     |  jackpot(self)\n",
      "     |      A jackpot is a result in which all faces are the same, e.g. all ones for a six-sided die.\n",
      "     |      \n",
      "     |      Args:\n",
      "     |      - Computes how many times the game resulted in a jackpot.\n",
      "     |      \n",
      "     |      Returns:\n",
      "     |      -Returns an integer for the number of jackpots.\n",
      "     |  \n",
      "     |  rolled_event(self)\n",
      "     |      Computes how many times a given face is rolled in each event.\n",
      "     |      \n",
      "     |      Functions\n",
      "     |      The data frame has an index of the roll number, face values as columns, and count values in the cells (i.e. it is in wide format)\n",
      "     |      \n",
      "     |      Returns:\n",
      "     |      -Returns a data frame of results.\n",
      "     |  \n",
      "     |  ----------------------------------------------------------------------\n",
      "     |  Data descriptors defined here:\n",
      "     |  \n",
      "     |  __dict__\n",
      "     |      dictionary for instance variables (if defined)\n",
      "     |  \n",
      "     |  __weakref__\n",
      "     |      list of weak references to the object (if defined)\n",
      "    \n",
      "    class Die(builtins.object)\n",
      "     |  Die(N)\n",
      "     |  \n",
      "     |  A class, changing faces and weights.\n",
      "     |  \n",
      "     |  Attributes:\n",
      "     |  - faces(N) (np.array): Array of faces of the die.\n",
      "     |  - _data (pd.DataFrame): Private data frame that stores the die weights.\n",
      "     |  \n",
      "     |  Methods defined here:\n",
      "     |  \n",
      "     |  __init__(self, N)\n",
      "     |      Initializes a Die with face data.\n",
      "     |      \n",
      "     |      Args:\n",
      "     |      - faces(N) (np.array): Array of faces of the die..\n",
      "     |      \n",
      "     |      Raised errors:\n",
      "     |      - TypeError: Throws a TypeError if not a Numpy array.\n",
      "     |      - ValueError: Test to see if the values are distinct and raise ValueError if not.\n",
      "     |  \n",
      "     |  change_weight(self, N, new_weight)\n",
      "     |      A method to change the weight of a single side.\n",
      "     |      \n",
      "     |      Args:\n",
      "     |      - face(N): face value to be changed.\n",
      "     |      - new_weight: the weight of face value that was changed.\n",
      "     |      \n",
      "     |      Raises:\n",
      "     |      - IndexError: If the face value is not valid.\n",
      "     |      - TypeError: If weight is not numeric (interger or float) or castable numeric.\n",
      "     |  \n",
      "     |  current_state(self)\n",
      "     |      Dies current state\n",
      "     |      \n",
      "     |      Returns:\n",
      "     |      - Returns a copy of the private die data frame.\n",
      "     |  \n",
      "     |  roll(self, rolls=1)\n",
      "     |      method to roll the die one or more times.\n",
      "     |      \n",
      "     |      Args:\n",
      "     |      - how many times the die is to be rolled; defaults to  1\n",
      "     |      \n",
      "     |      Returns:\n",
      "     |      - Returns a Python list of outcomes.\n",
      "     |  \n",
      "     |  ----------------------------------------------------------------------\n",
      "     |  Data descriptors defined here:\n",
      "     |  \n",
      "     |  __dict__\n",
      "     |      dictionary for instance variables (if defined)\n",
      "     |  \n",
      "     |  __weakref__\n",
      "     |      list of weak references to the object (if defined)\n",
      "    \n",
      "    class Game(builtins.object)\n",
      "     |  Game(dies)\n",
      "     |  \n",
      "     |  A game consists of rolling of one or more similar dice (Die objects) one or more times\n",
      "     |  \n",
      "     |  Attributes:\n",
      "     |  - list of already instantiated similar dice.\n",
      "     |  \n",
      "     |  Methods defined here:\n",
      "     |  \n",
      "     |  __init__(self, dies)\n",
      "     |      Initializes a Die with face data. Takes a single parameter, a list of already instantiated similar dice\n",
      "     |      \n",
      "     |      Args:\n",
      "     |      - takes a single parameter, a list of already instantiated similar dice.\n",
      "     |  \n",
      "     |  play(self, rolls)\n",
      "     |      play method how many times dice should be rolled\n",
      "     |      \n",
      "     |       Args:\n",
      "     |       - interger parameter how many times dice should be rolled.\n",
      "     |  \n",
      "     |  play_results(self, form='wide')\n",
      "     |      results of most recent play\n",
      "     |      \n",
      "     |      Args:\n",
      "     |      - Takes a parameter to return the data frame in narrow or wide form which defaults to wide form.\n",
      "     |      \n",
      "     |      Raises:\n",
      "     |      - ValueError:if the user passes an invalid option for narrow or wide.\n",
      "     |  \n",
      "     |  ----------------------------------------------------------------------\n",
      "     |  Data descriptors defined here:\n",
      "     |  \n",
      "     |  __dict__\n",
      "     |      dictionary for instance variables (if defined)\n",
      "     |  \n",
      "     |  __weakref__\n",
      "     |      list of weak references to the object (if defined)\n",
      "\n",
      "FILE\n",
      "    /sfs/qumulo/qhome/kzk8qq/Documents/MSDS/DS5100/kzk8qq_ds5100_montecarlo/Demo/montecarlo.py\n",
      "\n",
      "\n"
     ]
    }
   ],
   "source": [
    "help(Demo.montecarlo)"
   ]
  },
  {
   "cell_type": "markdown",
   "metadata": {},
   "source": [
    "## `README.md` File (3)\n",
    "\n",
    "Provide link to the README.md file of your project's repo.\n",
    "\n",
    "- Metadata section or info present (1).\n",
    "- Synopsis section showing how each class is called (1). (All must be included.)\n",
    "- API section listing all classes and methods (1). (All must be included.)"
   ]
  },
  {
   "cell_type": "markdown",
   "metadata": {},
   "source": [
    "URL:https://github.com/atferentinos/kzk8qq_ds5100_montecarlo/blob/main/README.md"
   ]
  },
  {
   "cell_type": "markdown",
   "metadata": {},
   "source": [
    "## Successful installation (2)\n",
    "\n",
    "Put a screenshot or paste a copy of a terminal session where you successfully install your module with pip.\n",
    "\n",
    "If pasting text, use a preformatted text block to show the results.\n",
    "\n",
    "- Installed with `pip` (1).\n",
    "- Successfully installed message appears (1)."
   ]
  },
  {
   "cell_type": "markdown",
   "metadata": {},
   "source": [
    "```bash\n",
    "-bash-4.2$cd kzk8qq_ds5100_montecarlo\n",
    "-bash-4.2$!pip install -e .\n",
    "pip install -e . install -e .\n",
    "Defaulting to user installation because normal site-packages is not writeable\n",
    "Obtaining file:///sfs/qumulo/qhome/kzk8qq/Documents/MSDS/DS5100/kzk8qq_ds5100_montecarlo\n",
    "Obtaining file:///sfs/qumulo/qhome/kzk8qq/Documents/MSDS/DS5100/kzk8qq_ds5100_montecarlo\n",
    "Collecting install\n",
    "  Downloading install-1.3.5-py3-none-any.whl (3.2 kB)\n",
    "Requirement already satisfied: pandas in /sfs/applications/202307/software/standard/core/anaconda/2020.11-py3.8/lib/python3.8/site-packages (from Demo==0.1) (1.1.3)\n",
    "Requirement already satisfied: numpy in /sfs/applications/202307/software/standard/core/anaconda/2020.11-py3.8/lib/python3.8/site-packages (from Demo==0.1) (1.19.2)\n",
    "Requirement already satisfied: matplotlib in /sfs/applications/202307/software/standard/core/anaconda/2020.11-py3.8/lib/python3.8/site-packages (from Demo==0.1) (3.3.2)\n",
    "Requirement already satisfied: python-dateutil>=2.7.3 in /sfs/applications/202307/software/standard/core/anaconda/2020.11-py3.8/lib/python3.8/site-packages (from pandas->Demo==0.1) (2.8.1)\n",
    "Requirement already satisfied: pytz>=2017.2 in /sfs/applications/202307/software/standard/core/anaconda/2020.11-py3.8/lib/python3.8/site-packages (from pandas->Demo==0.1) (2020.1)\n",
    "Requirement already satisfied: certifi>=2020.06.20 in /sfs/applications/202307/software/standard/core/anaconda/2020.11-py3.8/lib/python3.8/site-packages (from matplotlib->Demo==0.1) (2023.11.17)\n",
    "Requirement already satisfied: pyparsing!=2.0.4,!=2.1.2,!=2.1.6,>=2.0.3 in /sfs/applications/202307/software/standard/core/anaconda/2020.11-py3.8/lib/python3.8/site-packages (from matplotlib->Demo==0.1) (2.4.7)\n",
    "Requirement already satisfied: cycler>=0.10 in /sfs/applications/202307/software/standard/core/anaconda/2020.11-py3.8/lib/python3.8/site-packages (from matplotlib->Demo==0.1) (0.10.0)\n",
    "Requirement already satisfied: kiwisolver>=1.0.1 in /sfs/applications/202307/software/standard/core/anaconda/2020.11-py3.8/lib/python3.8/site-packages (from matplotlib->Demo==0.1) (1.3.0)\n",
    "Requirement already satisfied: pillow>=6.2.0 in /sfs/applications/202307/software/standard/core/anaconda/2020.11-py3.8/lib/python3.8/site-packages (from matplotlib->Demo==0.1) (8.0.1)\n",
    "Requirement already satisfied: six>=1.5 in /sfs/applications/202307/software/standard/core/anaconda/2020.11-py3.8/lib/python3.8/site-packages (from python-dateutil>=2.7.3->pandas->Demo==0.1) (1.15.0)\n",
    "Installing collected packages: install, Demo\n",
    "  Attempting uninstall: Demo\n",
    "    Found existing installation: Demo 0.1\n",
    "    Uninstalling Demo-0.1:\n",
    "      Successfully uninstalled Demo-0.1\n",
    "  Running setup.py develop for Demo\n",
    "Successfully installed Demo install-1.3.5\n",
    "```"
   ]
  },
  {
   "cell_type": "markdown",
   "metadata": {},
   "source": [
    "# Scenarios\n",
    "\n",
    "Use code blocks to perform the tasks for each scenario.\n",
    "\n",
    "Be sure the outputs are visible before submitting."
   ]
  },
  {
   "cell_type": "markdown",
   "metadata": {
    "tags": []
   },
   "source": [
    "## Scenario 1: A 2-headed Coin (9)\n",
    "\n",
    "Task 1. Create a fair coin (with faces $H$ and $T$) and one unfair coin in which one of the faces has a weight of $5$ and the others $1$.\n",
    "\n",
    "- Fair coin created (1).\n",
    "- Unfair coin created with weight as specified (1)."
   ]
  },
  {
   "cell_type": "code",
   "execution_count": 1,
   "metadata": {},
   "outputs": [
    {
     "name": "stdout",
     "output_type": "stream",
     "text": [
      "Welcome to my MonteCarlo Final Project\n"
     ]
    }
   ],
   "source": [
    "from Demo.montecarlo import Die, Game, Analyzer\n",
    "import numpy as np\n",
    "import pandas as pd\n",
    "import matplotlib.pyplot as plt\n",
    "\n",
    "##creating the coins\n",
    "fair_coin = Die(np.array(['H', 'T']))\n",
    "unfair_coin = Die(np.array(['H', 'T']))\n",
    "unfair_coin.change_weight('H', 5)"
   ]
  },
  {
   "cell_type": "markdown",
   "metadata": {},
   "source": [
    "Task 2. Play a game of $1000$ flips with two fair dice.\n",
    "\n",
    "- Play method called correclty and without error (1)."
   ]
  },
  {
   "cell_type": "code",
   "execution_count": 2,
   "metadata": {},
   "outputs": [],
   "source": [
    "##two fair coins game\n",
    "fair_game = Game([fair_coin, fair_coin])\n",
    "fair_game.play(1000)"
   ]
  },
  {
   "cell_type": "markdown",
   "metadata": {},
   "source": [
    "Task 3. Play another game (using a new Game object) of $1000$ flips, this time using two unfair dice and one fair die. For the second unfair die, you can use the same die object twice in the list of dice you pass to the Game object.\n",
    "\n",
    "- New game object created (1).\n",
    "- Play method called correclty and without error (1)."
   ]
  },
  {
   "cell_type": "code",
   "execution_count": 7,
   "metadata": {},
   "outputs": [
    {
     "name": "stdout",
     "output_type": "stream",
     "text": [
      "<Demo.montecarlo.Game object at 0x7f0dbbfc3040>\n",
      "<Demo.montecarlo.Game object at 0x7f0dec255760>\n"
     ]
    }
   ],
   "source": [
    "##two unfair coins and one fair coin\n",
    "unfair_game = Game([unfair_coin, unfair_coin, fair_coin])\n",
    "unfair_game.play(1000)"
   ]
  },
  {
   "cell_type": "markdown",
   "metadata": {},
   "source": [
    "Task 4. For each game, use an Analyzer object to determine the raw frequency of jackpots — i.e. getting either all $H$s or all $T$s.\n",
    "\n",
    "- Analyzer objecs instantiated for both games (1).\n",
    "- Raw frequencies reported for both (1)."
   ]
  },
  {
   "cell_type": "code",
   "execution_count": 9,
   "metadata": {},
   "outputs": [
    {
     "name": "stdout",
     "output_type": "stream",
     "text": [
      "470\n",
      "372\n"
     ]
    }
   ],
   "source": [
    "##raw frequencies of jackpots\n",
    "fair_jackpots = Analyzer(fair_game).jackpot()\n",
    "unfair_jackpots = Analyzer(unfair_game).jackpot()\n",
    "print(fair_jackpots)\n",
    "print(unfair_jackpots)"
   ]
  },
  {
   "cell_type": "markdown",
   "metadata": {},
   "source": [
    "Task 5. For each analyzer, compute relative frequency as the number of jackpots over the total number of rolls.\n",
    "\n",
    "- Both relative frequencies computed (1)."
   ]
  },
  {
   "cell_type": "code",
   "execution_count": 5,
   "metadata": {},
   "outputs": [],
   "source": [
    "##relative frequency \n",
    "frequency_fair = fair_jackpots / 1000\n",
    "frequency_unfair = unfair_jackpots / 1000"
   ]
  },
  {
   "cell_type": "markdown",
   "metadata": {},
   "source": [
    "Task 6. Show your results, comparing the two relative frequencies, in a simple bar chart.\n",
    "\n",
    "- Bar chart plotted and correct (1)."
   ]
  },
  {
   "cell_type": "code",
   "execution_count": 6,
   "metadata": {},
   "outputs": [
    {
     "data": {
      "image/png": "[encoded data removed]",
      "text/plain": [
       "<Figure size 432x288 with 1 Axes>"
      ]
     },
     "metadata": {
      "needs_background": "light"
     },
     "output_type": "display_data"
    }
   ],
   "source": [
    "##Scenario 1 bar plot\n",
    "plt.bar(x = ['Fair','Unfair'], height = [frequency_fair,frequency_unfair], color=['purple', 'blue'])\n",
    "plt.title('Frequency of Fair vs Unfair Coin Game')\n",
    "plt.show()"
   ]
  },
  {
   "cell_type": "markdown",
   "metadata": {},
   "source": [
    "## Scenario 2: A 6-sided Die (9)\n",
    "\n",
    "Task 1. Create three dice, each with six sides having the faces 1 through 6.\n",
    "\n",
    "- Three die objects created (1)."
   ]
  },
  {
   "cell_type": "code",
   "execution_count": 10,
   "metadata": {},
   "outputs": [],
   "source": [
    "##create three dice\n",
    "die_1 = Die(np.array([1, 2, 3, 4, 5, 6]))\n",
    "die_2 = Die(np.array([1, 2, 3, 4, 5, 6]))\n",
    "die_3 = Die(np.array([1, 2, 3, 4, 5, 6]))"
   ]
  },
  {
   "cell_type": "markdown",
   "metadata": {},
   "source": [
    "Task 2. Convert one of the dice to an unfair one by weighting the face $6$ five times more than the other weights (i.e. it has weight of 5 and the others a weight of 1 each).\n",
    "\n",
    "- Unfair die created with proper call to weight change method (1)."
   ]
  },
  {
   "cell_type": "code",
   "execution_count": 11,
   "metadata": {},
   "outputs": [],
   "source": [
    "##convert one die to an unfair \n",
    "unfair_1 = Die(np.array([1, 2, 3, 4, 5, 6]))\n",
    "unfair_1.change_weight(6, 5)"
   ]
  },
  {
   "cell_type": "markdown",
   "metadata": {},
   "source": [
    "Task 3. Convert another of the dice to be unfair by weighting the face $1$ five times more than the others.\n",
    "\n",
    "- Unfair die created with proper call to weight change method (1)."
   ]
  },
  {
   "cell_type": "code",
   "execution_count": 12,
   "metadata": {},
   "outputs": [],
   "source": [
    "##convert another die to be unfair \n",
    "unfair_2 = Die(np.array([1, 2, 3, 4, 5, 6]))\n",
    "unfair_2.change_weight(1, 5)"
   ]
  },
  {
   "cell_type": "markdown",
   "metadata": {},
   "source": [
    "Task 4. Play a game of $10000$ rolls with $5$ fair dice.\n",
    "\n",
    "- Game class properly instantiated (1). \n",
    "- Play method called properly (1)."
   ]
  },
  {
   "cell_type": "code",
   "execution_count": 13,
   "metadata": {},
   "outputs": [],
   "source": [
    "##play 10000 with 5 fair dice \n",
    "fair_game_1 = Game([die_1, die_2, die_3, die_1, die_2])\n",
    "fair_results = fair_game_1.play(10000)"
   ]
  },
  {
   "cell_type": "markdown",
   "metadata": {},
   "source": [
    "Task 5. Play another game of $10000$ rolls, this time with $2$ unfair dice, one as defined in steps #2 and #3 respectively, and $3$ fair dice.\n",
    "\n",
    "- Game class properly instantiated (1). \n",
    "- Play method called properly (1)."
   ]
  },
  {
   "cell_type": "code",
   "execution_count": 14,
   "metadata": {},
   "outputs": [],
   "source": [
    "##play 10000 with 2 unfair dice and 3 fair dice\n",
    "unfair_game_1 = Game([unfair_1, unfair_2, die_1, die_2, die_3])\n",
    "unfair_results = unfair_game_1.play(10000)"
   ]
  },
  {
   "cell_type": "markdown",
   "metadata": {},
   "source": [
    "Task 6. For each game, use an Analyzer object to determine the relative frequency of jackpots and show your results, comparing the two relative frequencies, in a simple bar chart.\n",
    "\n",
    "- Jackpot methods called (1).\n",
    "- Graph produced (1)."
   ]
  },
  {
   "cell_type": "code",
   "execution_count": 15,
   "metadata": {},
   "outputs": [
    {
     "data": {
      "image/png": "[encoded data removed]",
      "text/plain": [
       "<Figure size 432x288 with 1 Axes>"
      ]
     },
     "metadata": {
      "needs_background": "light"
     },
     "output_type": "display_data"
    }
   ],
   "source": [
    "##Analyzer\n",
    "fair_game_jackpots = Analyzer(fair_game_1).jackpot()\n",
    "unfair_game_jackpots = Analyzer(unfair_game_1).jackpot()\n",
    "\n",
    "frequency_fair_1 = fair_game_jackpots / 10000\n",
    "frequency_unfair_1 = unfair_game_jackpots / 10000\n",
    "\n",
    "plt.bar(x=['Fair_1', 'Unfair_1'], height=[frequency_fair_1, frequency_unfair_1], color=['orange', 'red'])\n",
    "plt.title('Frequency of Fair vs Unfair Dice Game')\n",
    "plt.show()"
   ]
  },
  {
   "cell_type": "markdown",
   "metadata": {},
   "source": [
    "## Scenario 3: Letters of the Alphabet (7)\n",
    "\n",
    "Task 1. Create a \"die\" of letters from $A$ to $Z$ with weights based on their frequency of usage as found in the data file `english_letters.txt`. Use the frequencies (i.e. raw counts) as weights.\n",
    "\n",
    "- Die correctly instantiated with source file data (1).\n",
    "- Weights properly applied using weight setting method (1)."
   ]
  },
  {
   "cell_type": "code",
   "execution_count": 16,
   "metadata": {},
   "outputs": [],
   "source": [
    "##read data in \n",
    "letter_frequencies = {line[0]: float(line[1]) for line in map(str.split, open('data/english_letters.txt', 'r'))}\n",
    "\n",
    "#frequency as weights\n",
    "letter_dice = Die(np.array(list(letter_frequencies.keys())))\n",
    "\n",
    "#weights based on frequencies\n",
    "weights = np.array(list(letter_frequencies.values()))\n",
    "for face, weight in zip(letter_dice._data.index, weights):\n",
    "    letter_dice.change_weight(face, weight)"
   ]
  },
  {
   "cell_type": "markdown",
   "metadata": {},
   "source": [
    "Task 2. Play a game involving $4$ of these dice with $1000$ rolls.\n",
    "\n",
    "- Game play method properly called (1)."
   ]
  },
  {
   "cell_type": "code",
   "execution_count": 17,
   "metadata": {},
   "outputs": [],
   "source": [
    "#4 dice and 1000 rolls\n",
    "dice_4 = [letter_dice] * 4\n",
    "game_4 = Game(dice_4)\n",
    "game_4.play(1000)"
   ]
  },
  {
   "cell_type": "markdown",
   "metadata": {},
   "source": [
    "Task 3. Determine how many permutations in your results are actual English words, based on the vocabulary found in `scrabble_words.txt`.\n",
    "\n",
    "- Use permutation method (1).\n",
    "- Get count as difference between permutations and vocabulary (1)."
   ]
  },
  {
   "cell_type": "code",
   "execution_count": 18,
   "metadata": {},
   "outputs": [],
   "source": [
    "#Analyze\n",
    "analyze_4 = Analyzer(game_4)\n",
    "perms_4 = analyze_4.distinct_permutations()\n",
    "\n",
    "#Read Scrabble words\n",
    "scrabble_words = set()\n",
    "with open('data/scrabble_words.txt', 'r') as file:\n",
    "    for line in file:\n",
    "        scrabble_words.add(line.strip().upper())\n",
    "\n",
    "#distinct permutations\n",
    "english_4 = sum(word in scrabble_words for word in perms_4.index)"
   ]
  },
  {
   "cell_type": "markdown",
   "metadata": {},
   "source": [
    "Task 4. Repeat steps #2 and #3, this time with $5$ dice. How many actual words does this produce? Which produces more?\n",
    "\n",
    "- Successfully repreats steps (1).\n",
    "- Identifies parameter with most found words (1)."
   ]
  },
  {
   "cell_type": "code",
   "execution_count": 24,
   "metadata": {},
   "outputs": [
    {
     "name": "stdout",
     "output_type": "stream",
     "text": [
      "4 dice: 5.76% of permutations are English words.\n",
      "5 dice: 0.60% of permutations are English words.\n",
      "Game with 4 dice has a higher percentage of mutations\n"
     ]
    },
    {
     "data": {
      "image/png": "[encoded data removed]",
      "text/plain": [
       "<Figure size 432x288 with 1 Axes>"
      ]
     },
     "metadata": {},
     "output_type": "display_data"
    }
   ],
   "source": [
    "#Repeat\n",
    "dice_5 = [letter_dice] * 5\n",
    "game_5 = Game(dice_5)\n",
    "game_5.play(1000)\n",
    "\n",
    "analyze_5 = Analyzer(game_5)\n",
    "perms_5 = analyze_5.distinct_permutations()\n",
    "\n",
    "#Count  permutations\n",
    "english_5 = sum(word in scrabble_words for word in perms_5.index)\n",
    "\n",
    "#Compare\n",
    "percent_4 = (english_4 / len(perms_4)) * 100\n",
    "percent_5 = (english_5 / len(perms_5)) * 100\n",
    "\n",
    "print(f\"4 dice: {percent_4:.2f}% of permutations are English words.\")\n",
    "print(f\"5 dice: {percent_5:.2f}% of permutations are English words.\")\n",
    "print(\"Game with 4 dice has a higher percentage of mutations\")\n",
    "\n",
    "#Pie chart comparing percentages\n",
    "labels = ['4 Dice', '5 Dice']\n",
    "sizes = [percent_4, percent_5]\n",
    "colors = ['#99ff04', '#ffcc31']\n",
    "explode = (0.1, 0)  #make slice out\n",
    "\n",
    "plt.pie(sizes, explode=explode, labels=labels, colors=colors, autopct='%1.1f%%', startangle=90)\n",
    "plt.axis('equal')\n",
    "plt.title('Percentage of Permutations')\n",
    "plt.show()"
   ]
  },
  {
   "cell_type": "markdown",
   "metadata": {},
   "source": [
    "# Submission"
   ]
  },
  {
   "cell_type": "markdown",
   "metadata": {},
   "source": [
    "When finished completing the above tasks, save this file to your local repo (and within your project), and them push it to your GitHub repo.\n",
    "\n",
    "Then convert this file to a PDF and submit it to GradeScope according to the assignment instructions in Canvas."
   ]
  }
 ],
 "metadata": {
  "kernelspec": {
   "display_name": "Python 3",
   "language": "python",
   "name": "python3"
  },
  "language_info": {
   "codemirror_mode": {
    "name": "ipython",
    "version": 3
   },
   "file_extension": ".py",
   "mimetype": "text/x-python",
   "name": "python",
   "nbconvert_exporter": "python",
   "pygments_lexer": "ipython3",
   "version": "3.8.8"
  },
  "toc-autonumbering": true,
  "widgets": {
   "application/vnd.jupyter.widget-state+json": {
    "state": {},
    "version_major": 2,
    "version_minor": 0
   }
  }
 },
 "nbformat": 4,
 "nbformat_minor": 5
}
