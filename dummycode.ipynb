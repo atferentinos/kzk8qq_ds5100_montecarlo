{
 "cells": [
  {
   "cell_type": "code",
   "execution_count": 3,
   "metadata": {},
   "outputs": [
    {
     "ename": "SyntaxError",
     "evalue": "invalid syntax (<ipython-input-3-7b2de4a6e433>, line 1)",
     "output_type": "error",
     "traceback": [
      "\u001b[0;36m  File \u001b[0;32m\"<ipython-input-3-7b2de4a6e433>\"\u001b[0;36m, line \u001b[0;32m1\u001b[0m\n\u001b[0;31m    scores <-\u001b[0m\n\u001b[0m              ^\u001b[0m\n\u001b[0;31mSyntaxError\u001b[0m\u001b[0;31m:\u001b[0m invalid syntax\n"
     ]
    }
   ],
   "source": [
    "scores <- \n",
    "  tibble(\n",
    "    name = c(\"mike\", \"carol\", \"greg\", \"marcia\", \"peter\", \"jan\", \"bobby\", \"cindy\", \"alice\"),\n",
    "    school = c(\"south\", \"south\", \"south\", \"south\", \"north\", \"north\", \"north\", \"south\", \"south\"),\n",
    "    teacher = c(\"johnson\", \"johnson\", \"johnson\", \"johnson\",  \"smith\", \"smith\", \"smith\", \"perry\", \"perry\"),\n",
    "    sex = c(\"male\", \"female\", \"male\", \"female\", \"male\", \"female\", \"male\", \"female\", \"female\"),\n",
    "    math_score = c(4, 3, 2, 4, 3, 4, 5, 4, 5),\n",
    "    reading_score = c(1, 5, 2, 4, 5, 4, 1, 5, 4)\n",
    ")"
   ]
  },
  {
   "cell_type": "code",
   "execution_count": null,
   "metadata": {},
   "outputs": [],
   "source": []
  }
 ],
 "metadata": {
  "kernelspec": {
   "display_name": "Python 3",
   "language": "python",
   "name": "python3"
  },
  "language_info": {
   "codemirror_mode": {
    "name": "ipython",
    "version": 3
   },
   "file_extension": ".py",
   "mimetype": "text/x-python",
   "name": "python",
   "nbconvert_exporter": "python",
   "pygments_lexer": "ipython3",
   "version": "3.8.8"
  }
 },
 "nbformat": 4,
 "nbformat_minor": 4
}
