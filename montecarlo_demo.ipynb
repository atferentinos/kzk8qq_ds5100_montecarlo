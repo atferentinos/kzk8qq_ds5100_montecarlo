{
 "cells": [
  {
   "cell_type": "markdown",
   "metadata": {},
   "source": [
    "# Scenarios\n",
    "\n",
    "To demonstrate the use of your simulator, you will produce a Jupyter\n",
    "Notebook that performs the following scenarios, each consisting of a set\n",
    "of tasks:"
   ]
  },
  {
   "cell_type": "code",
   "execution_count": 6,
   "metadata": {},
   "outputs": [
    {
     "name": "stdout",
     "output_type": "stream",
     "text": [
      ".:\n",
      "total 128\n",
      "drwxr-sr-x 4 kzk8qq users  2048 Nov  9 15:06 Demo\n",
      "drwxr-sr-x 2 kzk8qq users  2560 Nov  9 15:03 Demo.egg-info\n",
      "-rw-r--r-- 1 kzk8qq users   555 Nov  7 19:49 dummycode.ipynb\n",
      "-rw-r--r-- 1 kzk8qq users 17774 Oct 31 11:12 FinalProjectInstructions.ipynb\n",
      "-rw-r--r-- 1 kzk8qq users  1086 Oct 31 14:14 LICENSE\n",
      "-rw-r--r-- 1 kzk8qq users 13465 Oct 31 16:21 M08-HW-1-1.ipynb\n",
      "-rw-r--r-- 1 kzk8qq users 13290 Nov  9 15:04 montecarlo_demo.ipynb\n",
      "drwxr-sr-x 3 kzk8qq users  2560 Nov  9 14:53 montecarlo py storage\n",
      "-rw-r--r-- 1 kzk8qq users  3130 Nov  7 18:31 montecarlo_test.py\n",
      "-rw-r--r-- 1 kzk8qq users   667 Nov  7 19:46 montecarlo_test_results.txt\n",
      "-rw-r--r-- 1 kzk8qq users   255 Oct 31 16:18 notes.txt\n",
      "drwxr-sr-x 2 kzk8qq users   512 Oct 31 16:53 __pycache__\n",
      "-rw-r--r-- 1 kzk8qq users    49 Oct 31 14:14 README.md\n",
      "-rw-r--r-- 1 kzk8qq users   348 Nov  6 11:29 setup.py\n",
      "-rw-r--r-- 1 kzk8qq users  9932 Nov  8 15:40 Untitled.ipynb\n",
      "\n",
      "./Demo:\n",
      "total 20\n",
      "-rw-r--r-- 1 kzk8qq users   48 Nov  7 18:37 __init__.py\n",
      "-rw-r--r-- 1 kzk8qq users 6909 Nov  9 15:06 montecarlo.py\n",
      "drwxr-sr-x 2 kzk8qq users 1024 Nov  9 15:02 __pycache__\n",
      "\n",
      "./Demo/__pycache__:\n",
      "total 16\n",
      "-rw-r--r-- 1 kzk8qq users  231 Nov  7 18:44 __init__.cpython-38.pyc\n",
      "-rw-r--r-- 1 kzk8qq users 7448 Nov  9 15:02 montecarlo.cpython-38.pyc\n",
      "\n",
      "./Demo.egg-info:\n",
      "total 20\n",
      "-rw-r--r-- 1 kzk8qq users   1 Nov  9 15:03 dependency_links.txt\n",
      "-rw-r--r-- 1 kzk8qq users 252 Nov  9 15:03 PKG-INFO\n",
      "-rw-r--r-- 1 kzk8qq users  24 Nov  9 15:03 requires.txt\n",
      "-rw-r--r-- 1 kzk8qq users 193 Nov  9 15:03 SOURCES.txt\n",
      "-rw-r--r-- 1 kzk8qq users   5 Nov  9 15:03 top_level.txt\n",
      "\n",
      "./montecarlo py storage:\n",
      "total 48\n",
      "-rw-r--r-- 1 kzk8qq users 6450 Nov  9 14:53 coin_montecarlo.py\n",
      "-rw-r--r-- 1 kzk8qq users 6909 Nov  8 17:30 current_montecarlo.py\n",
      "-rw-r--r-- 1 kzk8qq users 6450 Nov  8 17:27 montecarlo_new.py\n",
      "-rw-r--r-- 1 kzk8qq users 6908 Nov  8 17:05 monte storage.py\n",
      "\n",
      "./__pycache__:\n",
      "total 12\n",
      "-rw-r--r-- 1 kzk8qq users 7473 Oct 31 16:53 montecarlo.cpython-38.pyc\n"
     ]
    }
   ],
   "source": [
    "!ls -lR"
   ]
  },
  {
   "cell_type": "code",
   "execution_count": 7,
   "metadata": {},
   "outputs": [
    {
     "name": "stdout",
     "output_type": "stream",
     "text": [
      "Defaulting to user installation because normal site-packages is not writeable\n",
      "Obtaining file:///sfs/qumulo/qhome/kzk8qq/Documents/MSDS/DS5100/kzk8qq_ds5100_montecarlo\n",
      "Requirement already satisfied: pandas in /sfs/applications/202307/software/standard/compiler/gcc/9.2.0/jupyter_conda/2020.11-py3.8/lib/python3.8/site-packages (from Demo==0.1) (1.1.3)\n",
      "Requirement already satisfied: numpy in /sfs/applications/202307/software/standard/compiler/gcc/9.2.0/jupyter_conda/2020.11-py3.8/lib/python3.8/site-packages (from Demo==0.1) (1.19.2)\n",
      "Requirement already satisfied: matplotlib in /sfs/applications/202307/software/standard/compiler/gcc/9.2.0/jupyter_conda/2020.11-py3.8/lib/python3.8/site-packages (from Demo==0.1) (3.3.2)\n",
      "Requirement already satisfied: python-dateutil>=2.7.3 in /sfs/applications/202307/software/standard/compiler/gcc/9.2.0/jupyter_conda/2020.11-py3.8/lib/python3.8/site-packages (from pandas->Demo==0.1) (2.8.1)\n",
      "Requirement already satisfied: pytz>=2017.2 in /sfs/applications/202307/software/standard/compiler/gcc/9.2.0/jupyter_conda/2020.11-py3.8/lib/python3.8/site-packages (from pandas->Demo==0.1) (2020.1)\n",
      "Requirement already satisfied: certifi>=2020.06.20 in /sfs/applications/202307/software/standard/compiler/gcc/9.2.0/jupyter_conda/2020.11-py3.8/lib/python3.8/site-packages (from matplotlib->Demo==0.1) (2021.10.8)\n",
      "Requirement already satisfied: kiwisolver>=1.0.1 in /sfs/applications/202307/software/standard/compiler/gcc/9.2.0/jupyter_conda/2020.11-py3.8/lib/python3.8/site-packages (from matplotlib->Demo==0.1) (1.3.0)\n",
      "Requirement already satisfied: cycler>=0.10 in /sfs/applications/202307/software/standard/compiler/gcc/9.2.0/jupyter_conda/2020.11-py3.8/lib/python3.8/site-packages (from matplotlib->Demo==0.1) (0.10.0)\n",
      "Requirement already satisfied: pyparsing!=2.0.4,!=2.1.2,!=2.1.6,>=2.0.3 in /sfs/applications/202307/software/standard/compiler/gcc/9.2.0/jupyter_conda/2020.11-py3.8/lib/python3.8/site-packages (from matplotlib->Demo==0.1) (2.4.7)\n",
      "Requirement already satisfied: pillow>=6.2.0 in /sfs/applications/202307/software/standard/compiler/gcc/9.2.0/jupyter_conda/2020.11-py3.8/lib/python3.8/site-packages (from matplotlib->Demo==0.1) (8.0.1)\n",
      "Requirement already satisfied: six>=1.5 in /sfs/applications/202307/software/standard/compiler/gcc/9.2.0/jupyter_conda/2020.11-py3.8/lib/python3.8/site-packages (from python-dateutil>=2.7.3->pandas->Demo==0.1) (1.15.0)\n",
      "Installing collected packages: Demo\n",
      "  Attempting uninstall: Demo\n",
      "    Found existing installation: Demo 0.1\n",
      "    Uninstalling Demo-0.1:\n",
      "      Successfully uninstalled Demo-0.1\n",
      "  Running setup.py develop for Demo\n",
      "Successfully installed Demo\n"
     ]
    }
   ],
   "source": [
    "!pip install -e ."
   ]
  },
  {
   "cell_type": "markdown",
   "metadata": {},
   "source": [
    "## \f",
    "Scenario 1: A 2-headed Coin\n",
    "\n",
    "1.  Create a fair coin (with faces $H$ and $T$) and one unfair coin in\n",
    "    which one of the faces has a weight of $5$ and the others $1$.\n",
    "\n",
    "2.  Play a game of $1000$ flips with two fair dice.\n",
    "\n",
    "3.  Play another game (using a new Game object) of $1000$ flips, this\n",
    "    time using two unfair dice and one fair die. For the second unfair\n",
    "    die, you can use the same die object twice in the list of dice you\n",
    "    pass to the Game object.\n",
    "\n",
    "4.  For each game, use an Analyzer object to determine the raw frequency\n",
    "    of jackpots — i.e. getting either all $H$s or all $T$s.\n",
    "\n",
    "5.  For each analyzer, compute relative frequency as the number of\n",
    "    jackpots over the total number of rolls.\n",
    "\n",
    "6.  Show your results, comparing the two relative frequencies, in a\n",
    "    simple bar chart."
   ]
  },
  {
   "cell_type": "code",
   "execution_count": 10,
   "metadata": {},
   "outputs": [
    {
     "ename": "TypeError",
     "evalue": "__init__() got an unexpected keyword argument 'weights'",
     "output_type": "error",
     "traceback": [
      "\u001b[0;31m---------------------------------------------------------------------------\u001b[0m",
      "\u001b[0;31mTypeError\u001b[0m                                 Traceback (most recent call last)",
      "\u001b[0;32m<ipython-input-10-7d33aa733b5f>\u001b[0m in \u001b[0;36m<module>\u001b[0;34m\u001b[0m\n\u001b[1;32m      7\u001b[0m \u001b[0;31m# Defining the fair and unfair coins\u001b[0m\u001b[0;34m\u001b[0m\u001b[0;34m\u001b[0m\u001b[0;34m\u001b[0m\u001b[0m\n\u001b[1;32m      8\u001b[0m \u001b[0mfair_coin\u001b[0m \u001b[0;34m=\u001b[0m \u001b[0mDie\u001b[0m\u001b[0;34m(\u001b[0m\u001b[0mnp\u001b[0m\u001b[0;34m.\u001b[0m\u001b[0marray\u001b[0m\u001b[0;34m(\u001b[0m\u001b[0;34m[\u001b[0m\u001b[0;34m'H'\u001b[0m\u001b[0;34m,\u001b[0m \u001b[0;34m'T'\u001b[0m\u001b[0;34m]\u001b[0m\u001b[0;34m)\u001b[0m\u001b[0;34m)\u001b[0m\u001b[0;34m\u001b[0m\u001b[0;34m\u001b[0m\u001b[0m\n\u001b[0;32m----> 9\u001b[0;31m \u001b[0munfair_coin\u001b[0m \u001b[0;34m=\u001b[0m \u001b[0mDie\u001b[0m\u001b[0;34m(\u001b[0m\u001b[0mnp\u001b[0m\u001b[0;34m.\u001b[0m\u001b[0marray\u001b[0m\u001b[0;34m(\u001b[0m\u001b[0;34m[\u001b[0m\u001b[0;34m'H'\u001b[0m\u001b[0;34m,\u001b[0m \u001b[0;34m'T'\u001b[0m\u001b[0;34m]\u001b[0m\u001b[0;34m)\u001b[0m\u001b[0;34m,\u001b[0m \u001b[0mweights\u001b[0m\u001b[0;34m=\u001b[0m\u001b[0mnp\u001b[0m\u001b[0;34m.\u001b[0m\u001b[0marray\u001b[0m\u001b[0;34m(\u001b[0m\u001b[0;34m[\u001b[0m\u001b[0;36m1\u001b[0m\u001b[0;34m,\u001b[0m \u001b[0;36m5\u001b[0m\u001b[0;34m]\u001b[0m\u001b[0;34m)\u001b[0m\u001b[0;34m)\u001b[0m\u001b[0;34m\u001b[0m\u001b[0;34m\u001b[0m\u001b[0m\n\u001b[0m\u001b[1;32m     10\u001b[0m \u001b[0;34m\u001b[0m\u001b[0m\n\u001b[1;32m     11\u001b[0m \u001b[0;31m# Playing the first game with two fair dice\u001b[0m\u001b[0;34m\u001b[0m\u001b[0;34m\u001b[0m\u001b[0;34m\u001b[0m\u001b[0m\n",
      "\u001b[0;31mTypeError\u001b[0m: __init__() got an unexpected keyword argument 'weights'"
     ]
    }
   ],
   "source": [
    "from Demo.montecarlo import Die, Game, Analyzer\n",
    "import numpy as np\n",
    "import pandas as pd\n",
    "import matplotlib.pyplot as plt\n",
    "\n",
    "\n",
    "# Defining the fair and unfair coins\n",
    "fair_coin = Die(np.array(['H', 'T']))\n",
    "unfair_coin = Die(np.array(['H', 'T']), weights=np.array([1, 5]))\n",
    "\n",
    "# Playing the first game with two fair dice\n",
    "fair_game = Game([fair_coin, fair_coin])\n",
    "fair_game.play(1000)\n",
    "fair_analyzer = Analyzer(fair_game)\n",
    "fair_jackpot_frequency = fair_analyzer.jackpot() / 1000\n",
    "\n",
    "# Playing the second game with two unfair dice and one fair die\n",
    "unfair_game = Game([unfair_coin, unfair_coin, fair_coin])\n",
    "unfair_game.play(1000)\n",
    "unfair_analyzer = Analyzer(unfair_game)\n",
    "unfair_jackpot_frequency = unfair_analyzer.jackpot() / 1000\n",
    "\n",
    "# Creating a simple bar chart to compare the relative frequencies\n",
    "labels = ['Fair Game', 'Unfair Game']\n",
    "frequencies = [fair_jackpot_frequency, unfair_jackpot_frequency]\n",
    "\n",
    "x = np.arange(len(labels))\n",
    "plt.bar(x, frequencies, align='center', alpha=0.7)\n",
    "plt.xticks(x, labels)\n",
    "plt.ylabel('Relative Frequency of Jackpots')\n",
    "plt.title('Comparison of Relative Frequencies of Jackpots in Games')\n",
    "plt.show()\n"
   ]
  },
  {
   "cell_type": "markdown",
   "metadata": {},
   "source": [
    "## Scenario 2: A 6-sided Die\n",
    "\n",
    "1.  Create three dice, each with six sides having the faces $1$ through\n",
    "    $6$.\n",
    "\n",
    "2.  Convert one die to an unfair one by weighting the face $6$ five\n",
    "    times more than the other weights (i.e. it has weight of $5$ and the\n",
    "    others a weight of $1$ each).\n",
    "\n",
    "3.  Convert another die to be unfair by weighting the face $1$ five\n",
    "    times more than the others.\n",
    "\n",
    "4.  Play a game of $10000$ rolls with $5$ fair dice.\n",
    "\n",
    "5.  Play a game of $10000$ rolls with $2$ unfair dice, one as defined in\n",
    "    steps #2 and #3 respectively, and $3$ fair dice.\n",
    "\n",
    "6.  For each game, use an Analyzer object to determine the relative\n",
    "    frequency of jackpots and show your results, comparing the two\n",
    "    relative frequencies, in a simple bar chart."
   ]
  },
  {
   "cell_type": "code",
   "execution_count": null,
   "metadata": {},
   "outputs": [],
   "source": [
    "\n"
   ]
  },
  {
   "cell_type": "markdown",
   "metadata": {},
   "source": [
    "## Scenario 3: The Roman Alphabet\n",
    "\n",
    "1.  Create a “die” of letters from $A$ to $Z$ with weights based on\n",
    "    their frequency of usage as found in the data file\n",
    "    `data/english_letters.txt`. Use the frequencies (i.e. raw counts) as\n",
    "    weights.\n",
    "\n",
    "2.  Play a game involving $4$ of these dice with $1000$ rolls.\n",
    "\n",
    "3.  Determine how many distinct permutations in your results are actual\n",
    "    English words, based on the vocabulary found in\n",
    "    `data/scrabble_words.txt`.\n",
    "\n",
    "4.  Repeat steps #2 and #3 using $5$ dice and compare the results. Which\n",
    "    word length generates a higher percentage of English words?"
   ]
  },
  {
   "cell_type": "code",
   "execution_count": null,
   "metadata": {},
   "outputs": [],
   "source": []
  }
 ],
 "metadata": {
  "kernelspec": {
   "display_name": "Python 3",
   "language": "python",
   "name": "python3"
  },
  "language_info": {
   "codemirror_mode": {
    "name": "ipython",
    "version": 3
   },
   "file_extension": ".py",
   "mimetype": "text/x-python",
   "name": "python",
   "nbconvert_exporter": "python",
   "pygments_lexer": "ipython3",
   "version": "3.8.8"
  }
 },
 "nbformat": 4,
 "nbformat_minor": 4
}
