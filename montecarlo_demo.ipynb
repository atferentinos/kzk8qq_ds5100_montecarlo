{
 "cells": [
  {
   "cell_type": "markdown",
   "metadata": {},
   "source": [
    "# Scenarios\n",
    "\n",
    "To demonstrate the use of your simulator, you will produce a Jupyter\n",
    "Notebook that performs the following scenarios, each consisting of a set\n",
    "of tasks:"
   ]
  },
  {
   "cell_type": "code",
   "execution_count": 14,
   "metadata": {},
   "outputs": [
    {
     "name": "stdout",
     "output_type": "stream",
     "text": [
      ".:\n",
      "total 152\n",
      "drwxr-sr-x 4 kzk8qq users  2048 Nov  8 17:55 Demo\n",
      "drwxr-sr-x 2 kzk8qq users  2560 Nov  8 17:54 Demo.egg-info\n",
      "-rw-r--r-- 1 kzk8qq users   555 Nov  7 19:49 dummycode.ipynb\n",
      "-rw-r--r-- 1 kzk8qq users 17774 Oct 31 11:12 FinalProjectInstructions.ipynb\n",
      "-rw-r--r-- 1 kzk8qq users  1086 Oct 31 14:14 LICENSE\n",
      "-rw-r--r-- 1 kzk8qq users 13465 Oct 31 16:21 M08-HW-1-1.ipynb\n",
      "-rw-r--r-- 1 kzk8qq users 40159 Nov  8 17:55 montecarlo_demo.ipynb\n",
      "drwxr-sr-x 3 kzk8qq users  2048 Nov  8 17:30 montecarlo py storage\n",
      "-rw-r--r-- 1 kzk8qq users  3130 Nov  7 18:31 montecarlo_test.py\n",
      "-rw-r--r-- 1 kzk8qq users   667 Nov  7 19:46 montecarlo_test_results.txt\n",
      "-rw-r--r-- 1 kzk8qq users   255 Oct 31 16:18 notes.txt\n",
      "drwxr-sr-x 2 kzk8qq users   512 Oct 31 16:53 __pycache__\n",
      "-rw-r--r-- 1 kzk8qq users    49 Oct 31 14:14 README.md\n",
      "-rw-r--r-- 1 kzk8qq users   348 Nov  6 11:29 setup.py\n",
      "-rw-r--r-- 1 kzk8qq users  9932 Nov  8 15:40 Untitled.ipynb\n",
      "\n",
      "./Demo:\n",
      "total 20\n",
      "-rw-r--r-- 1 kzk8qq users   48 Nov  7 18:37 __init__.py\n",
      "-rw-r--r-- 1 kzk8qq users 6450 Nov  8 17:55 montecarlo.py\n",
      "drwxr-sr-x 2 kzk8qq users 1024 Nov  8 17:45 __pycache__\n",
      "\n",
      "./Demo/__pycache__:\n",
      "total 16\n",
      "-rw-r--r-- 1 kzk8qq users  231 Nov  7 18:44 __init__.cpython-38.pyc\n",
      "-rw-r--r-- 1 kzk8qq users 7714 Nov  8 17:45 montecarlo.cpython-38.pyc\n",
      "\n",
      "./Demo.egg-info:\n",
      "total 20\n",
      "-rw-r--r-- 1 kzk8qq users   1 Nov  8 17:54 dependency_links.txt\n",
      "-rw-r--r-- 1 kzk8qq users 252 Nov  8 17:54 PKG-INFO\n",
      "-rw-r--r-- 1 kzk8qq users  24 Nov  8 17:54 requires.txt\n",
      "-rw-r--r-- 1 kzk8qq users 193 Nov  8 17:54 SOURCES.txt\n",
      "-rw-r--r-- 1 kzk8qq users   5 Nov  8 17:54 top_level.txt\n",
      "\n",
      "./montecarlo py storage:\n",
      "total 36\n",
      "-rw-r--r-- 1 kzk8qq users 6909 Nov  8 17:30 current_montecarlo.py\n",
      "-rw-r--r-- 1 kzk8qq users 6450 Nov  8 17:27 montecarlo_new.py\n",
      "-rw-r--r-- 1 kzk8qq users 6908 Nov  8 17:05 monte storage.py\n",
      "\n",
      "./__pycache__:\n",
      "total 12\n",
      "-rw-r--r-- 1 kzk8qq users 7473 Oct 31 16:53 montecarlo.cpython-38.pyc\n"
     ]
    }
   ],
   "source": [
    "!ls -lR"
   ]
  },
  {
   "cell_type": "code",
   "execution_count": 15,
   "metadata": {},
   "outputs": [
    {
     "name": "stdout",
     "output_type": "stream",
     "text": [
      "Defaulting to user installation because normal site-packages is not writeable\n",
      "Obtaining file:///sfs/qumulo/qhome/kzk8qq/Documents/MSDS/DS5100/kzk8qq_ds5100_montecarlo\n",
      "Requirement already satisfied: pandas in /sfs/applications/202307/software/standard/compiler/gcc/9.2.0/jupyter_conda/2020.11-py3.8/lib/python3.8/site-packages (from Demo==0.1) (1.1.3)\n",
      "Requirement already satisfied: numpy in /sfs/applications/202307/software/standard/compiler/gcc/9.2.0/jupyter_conda/2020.11-py3.8/lib/python3.8/site-packages (from Demo==0.1) (1.19.2)\n",
      "Requirement already satisfied: matplotlib in /sfs/applications/202307/software/standard/compiler/gcc/9.2.0/jupyter_conda/2020.11-py3.8/lib/python3.8/site-packages (from Demo==0.1) (3.3.2)\n",
      "Requirement already satisfied: python-dateutil>=2.7.3 in /sfs/applications/202307/software/standard/compiler/gcc/9.2.0/jupyter_conda/2020.11-py3.8/lib/python3.8/site-packages (from pandas->Demo==0.1) (2.8.1)\n",
      "Requirement already satisfied: pytz>=2017.2 in /sfs/applications/202307/software/standard/compiler/gcc/9.2.0/jupyter_conda/2020.11-py3.8/lib/python3.8/site-packages (from pandas->Demo==0.1) (2020.1)\n",
      "Requirement already satisfied: certifi>=2020.06.20 in /sfs/applications/202307/software/standard/compiler/gcc/9.2.0/jupyter_conda/2020.11-py3.8/lib/python3.8/site-packages (from matplotlib->Demo==0.1) (2021.10.8)\n",
      "Requirement already satisfied: pillow>=6.2.0 in /sfs/applications/202307/software/standard/compiler/gcc/9.2.0/jupyter_conda/2020.11-py3.8/lib/python3.8/site-packages (from matplotlib->Demo==0.1) (8.0.1)\n",
      "Requirement already satisfied: pyparsing!=2.0.4,!=2.1.2,!=2.1.6,>=2.0.3 in /sfs/applications/202307/software/standard/compiler/gcc/9.2.0/jupyter_conda/2020.11-py3.8/lib/python3.8/site-packages (from matplotlib->Demo==0.1) (2.4.7)\n",
      "Requirement already satisfied: cycler>=0.10 in /sfs/applications/202307/software/standard/compiler/gcc/9.2.0/jupyter_conda/2020.11-py3.8/lib/python3.8/site-packages (from matplotlib->Demo==0.1) (0.10.0)\n",
      "Requirement already satisfied: kiwisolver>=1.0.1 in /sfs/applications/202307/software/standard/compiler/gcc/9.2.0/jupyter_conda/2020.11-py3.8/lib/python3.8/site-packages (from matplotlib->Demo==0.1) (1.3.0)\n",
      "Requirement already satisfied: six>=1.5 in /sfs/applications/202307/software/standard/compiler/gcc/9.2.0/jupyter_conda/2020.11-py3.8/lib/python3.8/site-packages (from python-dateutil>=2.7.3->pandas->Demo==0.1) (1.15.0)\n",
      "Installing collected packages: Demo\n",
      "  Attempting uninstall: Demo\n",
      "    Found existing installation: Demo 0.1\n",
      "    Uninstalling Demo-0.1:\n",
      "      Successfully uninstalled Demo-0.1\n",
      "  Running setup.py develop for Demo\n",
      "Successfully installed Demo\n"
     ]
    }
   ],
   "source": [
    "!pip install -e ."
   ]
  },
  {
   "cell_type": "markdown",
   "metadata": {},
   "source": [
    "## \f",
    "Scenario 1: A 2-headed Coin\n",
    "\n",
    "1.  Create a fair coin (with faces $H$ and $T$) and one unfair coin in\n",
    "    which one of the faces has a weight of $5$ and the others $1$.\n",
    "\n",
    "2.  Play a game of $1000$ flips with two fair dice.\n",
    "\n",
    "3.  Play another game (using a new Game object) of $1000$ flips, this\n",
    "    time using two unfair dice and one fair die. For the second unfair\n",
    "    die, you can use the same die object twice in the list of dice you\n",
    "    pass to the Game object.\n",
    "\n",
    "4.  For each game, use an Analyzer object to determine the raw frequency\n",
    "    of jackpots — i.e. getting either all $H$s or all $T$s.\n",
    "\n",
    "5.  For each analyzer, compute relative frequency as the number of\n",
    "    jackpots over the total number of rolls.\n",
    "\n",
    "6.  Show your results, comparing the two relative frequencies, in a\n",
    "    simple bar chart."
   ]
  },
  {
   "cell_type": "code",
   "execution_count": 26,
   "metadata": {},
   "outputs": [
    {
     "data": {
      "image/png": "[encoded data removed]",
      "text/plain": [
       "<Figure size 432x288 with 1 Axes>"
      ]
     },
     "metadata": {
      "needs_background": "light"
     },
     "output_type": "display_data"
    },
    {
     "ename": "ValueError",
     "evalue": "Passed value is not a Game Object!!",
     "output_type": "error",
     "traceback": [
      "\u001b[0;31m---------------------------------------------------------------------------\u001b[0m",
      "\u001b[0;31mValueError\u001b[0m                                Traceback (most recent call last)",
      "\u001b[0;32m<ipython-input-26-ff0e59f931b2>\u001b[0m in \u001b[0;36m<module>\u001b[0;34m\u001b[0m\n\u001b[1;32m     23\u001b[0m \u001b[0;31m# Play a game with two fair dice\u001b[0m\u001b[0;34m\u001b[0m\u001b[0;34m\u001b[0m\u001b[0;34m\u001b[0m\u001b[0m\n\u001b[1;32m     24\u001b[0m \u001b[0mgame_fair\u001b[0m \u001b[0;34m=\u001b[0m \u001b[0mplay_game\u001b[0m\u001b[0;34m(\u001b[0m\u001b[0;34m[\u001b[0m\u001b[0mfair_coin\u001b[0m\u001b[0;34m,\u001b[0m \u001b[0mfair_coin\u001b[0m\u001b[0;34m]\u001b[0m\u001b[0;34m,\u001b[0m \u001b[0;36m1000\u001b[0m\u001b[0;34m)\u001b[0m\u001b[0;34m\u001b[0m\u001b[0;34m\u001b[0m\u001b[0m\n\u001b[0;32m---> 25\u001b[0;31m \u001b[0mjackpots_fair\u001b[0m\u001b[0;34m,\u001b[0m \u001b[0mrelative_frequency_fair\u001b[0m \u001b[0;34m=\u001b[0m \u001b[0manalyze_game\u001b[0m\u001b[0;34m(\u001b[0m\u001b[0mgame_fair\u001b[0m\u001b[0;34m,\u001b[0m \u001b[0;36m1000\u001b[0m\u001b[0;34m)\u001b[0m\u001b[0;34m\u001b[0m\u001b[0;34m\u001b[0m\u001b[0m\n\u001b[0m\u001b[1;32m     26\u001b[0m \u001b[0;34m\u001b[0m\u001b[0m\n\u001b[1;32m     27\u001b[0m \u001b[0;31m# Play a game with two unfair dice and one fair die\u001b[0m\u001b[0;34m\u001b[0m\u001b[0;34m\u001b[0m\u001b[0;34m\u001b[0m\u001b[0m\n",
      "\u001b[0;32m<ipython-input-26-ff0e59f931b2>\u001b[0m in \u001b[0;36m<lambda>\u001b[0;34m(game, total_rolls)\u001b[0m\n\u001b[1;32m     13\u001b[0m \u001b[0mcreate_die\u001b[0m \u001b[0;34m=\u001b[0m \u001b[0;32mlambda\u001b[0m \u001b[0mfaces\u001b[0m\u001b[0;34m,\u001b[0m \u001b[0mweights\u001b[0m\u001b[0;34m=\u001b[0m\u001b[0;32mNone\u001b[0m\u001b[0;34m,\u001b[0m \u001b[0mis_coin\u001b[0m\u001b[0;34m=\u001b[0m\u001b[0;32mFalse\u001b[0m\u001b[0;34m:\u001b[0m \u001b[0mDie\u001b[0m\u001b[0;34m(\u001b[0m\u001b[0mfaces\u001b[0m\u001b[0;34m,\u001b[0m \u001b[0mweights\u001b[0m\u001b[0;34m,\u001b[0m \u001b[0mis_coin\u001b[0m\u001b[0;34m)\u001b[0m\u001b[0;34m\u001b[0m\u001b[0;34m\u001b[0m\u001b[0m\n\u001b[1;32m     14\u001b[0m \u001b[0mplay_game\u001b[0m \u001b[0;34m=\u001b[0m \u001b[0;32mlambda\u001b[0m \u001b[0mdice_list\u001b[0m\u001b[0;34m,\u001b[0m \u001b[0mtimes\u001b[0m\u001b[0;34m:\u001b[0m \u001b[0mGame\u001b[0m\u001b[0;34m(\u001b[0m\u001b[0mdice_list\u001b[0m\u001b[0;34m)\u001b[0m\u001b[0;34m.\u001b[0m\u001b[0mplay\u001b[0m\u001b[0;34m(\u001b[0m\u001b[0mtimes\u001b[0m\u001b[0;34m)\u001b[0m\u001b[0;34m\u001b[0m\u001b[0;34m\u001b[0m\u001b[0m\n\u001b[0;32m---> 15\u001b[0;31m \u001b[0manalyze_game\u001b[0m \u001b[0;34m=\u001b[0m \u001b[0;32mlambda\u001b[0m \u001b[0mgame\u001b[0m\u001b[0;34m,\u001b[0m \u001b[0mtotal_rolls\u001b[0m\u001b[0;34m:\u001b[0m \u001b[0;34m(\u001b[0m\u001b[0mAnalyzer\u001b[0m\u001b[0;34m(\u001b[0m\u001b[0mgame\u001b[0m\u001b[0;34m)\u001b[0m\u001b[0;34m.\u001b[0m\u001b[0mjackpot\u001b[0m\u001b[0;34m(\u001b[0m\u001b[0;34m)\u001b[0m\u001b[0;34m,\u001b[0m \u001b[0mAnalyzer\u001b[0m\u001b[0;34m(\u001b[0m\u001b[0mgame\u001b[0m\u001b[0;34m)\u001b[0m\u001b[0;34m.\u001b[0m\u001b[0mrelative_frequency\u001b[0m\u001b[0;34m(\u001b[0m\u001b[0mAnalyzer\u001b[0m\u001b[0;34m(\u001b[0m\u001b[0mgame\u001b[0m\u001b[0;34m)\u001b[0m\u001b[0;34m.\u001b[0m\u001b[0mjackpot\u001b[0m\u001b[0;34m(\u001b[0m\u001b[0;34m)\u001b[0m\u001b[0;34m,\u001b[0m \u001b[0mtotal_rolls\u001b[0m\u001b[0;34m)\u001b[0m\u001b[0;34m)\u001b[0m\u001b[0;34m\u001b[0m\u001b[0;34m\u001b[0m\u001b[0m\n\u001b[0m\u001b[1;32m     16\u001b[0m \u001b[0mvisualize\u001b[0m \u001b[0;34m=\u001b[0m \u001b[0;32mlambda\u001b[0m \u001b[0mlabels\u001b[0m\u001b[0;34m,\u001b[0m \u001b[0mfrequencies\u001b[0m\u001b[0;34m:\u001b[0m \u001b[0mplt\u001b[0m\u001b[0;34m.\u001b[0m\u001b[0mbar\u001b[0m\u001b[0;34m(\u001b[0m\u001b[0mnp\u001b[0m\u001b[0;34m.\u001b[0m\u001b[0marange\u001b[0m\u001b[0;34m(\u001b[0m\u001b[0mlen\u001b[0m\u001b[0;34m(\u001b[0m\u001b[0mlabels\u001b[0m\u001b[0;34m)\u001b[0m\u001b[0;34m)\u001b[0m\u001b[0;34m,\u001b[0m \u001b[0mfrequencies\u001b[0m\u001b[0;34m,\u001b[0m \u001b[0mcolor\u001b[0m\u001b[0;34m=\u001b[0m\u001b[0;34m[\u001b[0m\u001b[0;34m'blue'\u001b[0m\u001b[0;34m,\u001b[0m \u001b[0;34m'orange'\u001b[0m\u001b[0;34m]\u001b[0m\u001b[0;34m)\u001b[0m\u001b[0;34m,\u001b[0m \u001b[0mplt\u001b[0m\u001b[0;34m.\u001b[0m\u001b[0mxlabel\u001b[0m\u001b[0;34m(\u001b[0m\u001b[0;34m'Game Type'\u001b[0m\u001b[0;34m)\u001b[0m\u001b[0;34m,\u001b[0m \u001b[0mplt\u001b[0m\u001b[0;34m.\u001b[0m\u001b[0mylabel\u001b[0m\u001b[0;34m(\u001b[0m\u001b[0;34m'Relative Frequency'\u001b[0m\u001b[0;34m)\u001b[0m\u001b[0;34m,\u001b[0m \u001b[0mplt\u001b[0m\u001b[0;34m.\u001b[0m\u001b[0mtitle\u001b[0m\u001b[0;34m(\u001b[0m\u001b[0;34m'Relative Frequency of Jackpot in Fair vs. Unfair Game'\u001b[0m\u001b[0;34m)\u001b[0m\u001b[0;34m,\u001b[0m \u001b[0mplt\u001b[0m\u001b[0;34m.\u001b[0m\u001b[0mxticks\u001b[0m\u001b[0;34m(\u001b[0m\u001b[0mnp\u001b[0m\u001b[0;34m.\u001b[0m\u001b[0marange\u001b[0m\u001b[0;34m(\u001b[0m\u001b[0mlen\u001b[0m\u001b[0;34m(\u001b[0m\u001b[0mlabels\u001b[0m\u001b[0;34m)\u001b[0m\u001b[0;34m)\u001b[0m\u001b[0;34m,\u001b[0m \u001b[0mlabels\u001b[0m\u001b[0;34m)\u001b[0m\u001b[0;34m,\u001b[0m \u001b[0mplt\u001b[0m\u001b[0;34m.\u001b[0m\u001b[0mshow\u001b[0m\u001b[0;34m(\u001b[0m\u001b[0;34m)\u001b[0m\u001b[0;34m\u001b[0m\u001b[0;34m\u001b[0m\u001b[0m\n\u001b[1;32m     17\u001b[0m \u001b[0;34m\u001b[0m\u001b[0m\n",
      "\u001b[0;32m/sfs/qumulo/qhome/kzk8qq/Documents/MSDS/DS5100/kzk8qq_ds5100_montecarlo/Demo/montecarlo.py\u001b[0m in \u001b[0;36m__init__\u001b[0;34m(self, game)\u001b[0m\n\u001b[1;32m    154\u001b[0m         \"\"\"\n\u001b[1;32m    155\u001b[0m         \u001b[0;32mif\u001b[0m \u001b[0;32mnot\u001b[0m \u001b[0misinstance\u001b[0m\u001b[0;34m(\u001b[0m\u001b[0mgame\u001b[0m\u001b[0;34m,\u001b[0m \u001b[0mGame\u001b[0m\u001b[0;34m)\u001b[0m\u001b[0;34m:\u001b[0m\u001b[0;34m\u001b[0m\u001b[0;34m\u001b[0m\u001b[0m\n\u001b[0;32m--> 156\u001b[0;31m             \u001b[0;32mraise\u001b[0m \u001b[0mValueError\u001b[0m\u001b[0;34m(\u001b[0m\u001b[0;34m\"Passed value is not a Game Object!!\"\u001b[0m\u001b[0;34m)\u001b[0m\u001b[0;34m\u001b[0m\u001b[0;34m\u001b[0m\u001b[0m\n\u001b[0m\u001b[1;32m    157\u001b[0m         \u001b[0mself\u001b[0m\u001b[0;34m.\u001b[0m\u001b[0mgame\u001b[0m \u001b[0;34m=\u001b[0m \u001b[0mgame\u001b[0m\u001b[0;34m\u001b[0m\u001b[0;34m\u001b[0m\u001b[0m\n\u001b[1;32m    158\u001b[0m \u001b[0;34m\u001b[0m\u001b[0m\n",
      "\u001b[0;31mValueError\u001b[0m: Passed value is not a Game Object!!"
     ]
    }
   ],
   "source": [
    "from Demo.montecarlo import Die, Game, Analyzer\n",
    "import numpy as np\n",
    "import pandas as pd\n",
    "import matplotlib.pyplot as plt\n",
    "\n",
    "\n",
    "\n",
    "import numpy as np\n",
    "import pandas as pd\n",
    "import matplotlib.pyplot as plt\n",
    "\n",
    "\n",
    "create_die = lambda faces, weights=None, is_coin=False: Die(faces, weights, is_coin)\n",
    "play_game = lambda dice_list, times: Game(dice_list).play(times)\n",
    "analyze_game = lambda game, total_rolls: (Analyzer(game).jackpot(), Analyzer(game).relative_frequency(Analyzer(game).jackpot(), total_rolls))\n",
    "visualize = lambda labels, frequencies: plt.bar(np.arange(len(labels)), frequencies, color=['blue', 'orange']), plt.xlabel('Game Type'), plt.ylabel('Relative Frequency'), plt.title('Relative Frequency of Jackpot in Fair vs. Unfair Game'), plt.xticks(np.arange(len(labels)), labels), plt.show()\n",
    "\n",
    "\n",
    "# Create a fair and an unfair coin\n",
    "fair_coin = create_die(np.array(['H', 'T']))\n",
    "unfair_coin = create_die(np.array(['H', 'T']), weights=[1, 5])\n",
    "\n",
    "# Play a game with two fair dice\n",
    "game_fair = play_game([fair_coin, fair_coin], 1000)\n",
    "jackpots_fair, relative_frequency_fair = analyze_game(game_fair, 1000)\n",
    "\n",
    "# Play a game with two unfair dice and one fair die\n",
    "game_unfair = play_game([fair_coin, fair_coin, unfair_coin], 1000)\n",
    "jackpots_unfair, relative_frequency_unfair = analyze_game(game_unfair, 1000)\n",
    "\n",
    "# Visualization\n",
    "labels = ['Fair Game', 'Unfair Game']\n",
    "frequencies = [relative_frequency_fair, relative_frequency_unfair]\n",
    "\n",
    "visualize(labels, frequencies)\n"
   ]
  },
  {
   "cell_type": "markdown",
   "metadata": {},
   "source": [
    "## Scenario 2: A 6-sided Die\n",
    "\n",
    "1.  Create three dice, each with six sides having the faces $1$ through\n",
    "    $6$.\n",
    "\n",
    "2.  Convert one die to an unfair one by weighting the face $6$ five\n",
    "    times more than the other weights (i.e. it has weight of $5$ and the\n",
    "    others a weight of $1$ each).\n",
    "\n",
    "3.  Convert another die to be unfair by weighting the face $1$ five\n",
    "    times more than the others.\n",
    "\n",
    "4.  Play a game of $10000$ rolls with $5$ fair dice.\n",
    "\n",
    "5.  Play a game of $10000$ rolls with $2$ unfair dice, one as defined in\n",
    "    steps #2 and #3 respectively, and $3$ fair dice.\n",
    "\n",
    "6.  For each game, use an Analyzer object to determine the relative\n",
    "    frequency of jackpots and show your results, comparing the two\n",
    "    relative frequencies, in a simple bar chart."
   ]
  },
  {
   "cell_type": "code",
   "execution_count": 20,
   "metadata": {},
   "outputs": [
    {
     "data": {
      "image/png": "[encoded data removed]",
      "text/plain": [
       "<Figure size 432x288 with 1 Axes>"
      ]
     },
     "metadata": {
      "needs_background": "light"
     },
     "output_type": "display_data"
    }
   ],
   "source": [
    "# Create fair and unfair dice\n",
    "fair_dice = Die(np.array([1, 2, 3, 4, 5, 6]))\n",
    "unfair_dice_1 = Die(np.array([1, 2, 3, 4, 5, 6]), W=[1, 1, 1, 1, 1, 5])\n",
    "unfair_dice_2 = Die(np.array([1, 2, 3, 4, 5, 6]), W=[5, 1, 1, 1, 1, 1])\n",
    "\n",
    "# Play a game with 5 fair dice for 10000 rolls\n",
    "fair_game_1 = Game([fair_dice, fair_dice, fair_dice, fair_dice, fair_dice])\n",
    "fair_game_1.play(10000)\n",
    "fair_analyzer_1 = Analyzer(fair_game_1)\n",
    "fair_jackpot_frequency_1 = fair_analyzer_1.jackpot() / 10000\n",
    "\n",
    "# Play a game with 2 unfair dice and 3 fair dice for 10000 rolls\n",
    "unfair_game_2 = Game([unfair_dice_1, unfair_dice_2, fair_dice, fair_dice, fair_dice])\n",
    "unfair_game_2.play(10000)\n",
    "unfair_analyzer_2 = Analyzer(unfair_game_2)\n",
    "unfair_jackpot_frequency_2 = unfair_analyzer_2.jackpot() / 10000\n",
    "\n",
    "# Visualization\n",
    "labels = ['Fair Game', 'Unfair Game']\n",
    "frequencies = [fair_jackpot_frequency_1, unfair_jackpot_frequency_2]\n",
    "\n",
    "x = np.arange(len(labels))\n",
    "width = 0.35\n",
    "\n",
    "fig, ax = plt.subplots()\n",
    "rects = ax.bar(x, frequencies, width, label='Jackpot Relative Frequency', color=['blue', 'orange'])\n",
    "\n",
    "ax.set_xlabel('Game Type')\n",
    "ax.set_ylabel('Relative Frequency')\n",
    "ax.set_title('Relative Frequency of Jackpot in Fair vs. Unfair Game')\n",
    "ax.set_xticks(x)\n",
    "ax.set_xticklabels(labels)\n",
    "ax.legend()\n",
    "\n",
    "plt.show()\n",
    "\n"
   ]
  },
  {
   "cell_type": "markdown",
   "metadata": {},
   "source": [
    "## Scenario 3: The Roman Alphabet\n",
    "\n",
    "1.  Create a “die” of letters from $A$ to $Z$ with weights based on\n",
    "    their frequency of usage as found in the data file\n",
    "    `data/english_letters.txt`. Use the frequencies (i.e. raw counts) as\n",
    "    weights.\n",
    "\n",
    "2.  Play a game involving $4$ of these dice with $1000$ rolls.\n",
    "\n",
    "3.  Determine how many distinct permutations in your results are actual\n",
    "    English words, based on the vocabulary found in\n",
    "    `data/scrabble_words.txt`.\n",
    "\n",
    "4.  Repeat steps #2 and #3 using $5$ dice and compare the results. Which\n",
    "    word length generates a higher percentage of English words?"
   ]
  },
  {
   "cell_type": "code",
   "execution_count": null,
   "metadata": {},
   "outputs": [],
   "source": []
  }
 ],
 "metadata": {
  "kernelspec": {
   "display_name": "Python 3",
   "language": "python",
   "name": "python3"
  },
  "language_info": {
   "codemirror_mode": {
    "name": "ipython",
    "version": 3
   },
   "file_extension": ".py",
   "mimetype": "text/x-python",
   "name": "python",
   "nbconvert_exporter": "python",
   "pygments_lexer": "ipython3",
   "version": "3.8.8"
  }
 },
 "nbformat": 4,
 "nbformat_minor": 4
}
